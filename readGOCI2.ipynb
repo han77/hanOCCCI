{
 "cells": [
  {
   "cell_type": "code",
   "execution_count": 1,
   "metadata": {},
   "outputs": [],
   "source": [
    "import sys\n",
    "import glob\n",
    "from netCDF4 import Dataset\n",
    "import pandas as pd\n",
    "import numpy as np"
   ]
  },
  {
   "attachments": {},
   "cell_type": "markdown",
   "metadata": {},
   "source": [
    "# netcdf file read\n"
   ]
  },
  {
   "attachments": {},
   "cell_type": "markdown",
   "metadata": {},
   "source": [
    "Create a netCDF4.Dataset object\n",
    "--------------------------------\n",
    "* <span style=\"color:#2D3748; background-color:#fff5b1;\">f</span> is a Dataset object, representing an open netCDF file.\n",
    "* printing the object gives you summary information, similar to ncdump -h."
   ]
  },
  {
   "cell_type": "code",
   "execution_count": 2,
   "metadata": {},
   "outputs": [
    {
     "name": "stdout",
     "output_type": "stream",
     "text": [
      "D:\\Study\\20220208_g2\\GK2_GOCI2_L1B_20220108_021530_LA_S007.nc\n"
     ]
    }
   ],
   "source": [
    "# file = r\"D:\\Study\\20220317_python\\20211002_03\\GK2_GOCI2_L1B_20211002_031500_RLA_S0009_HG_rhowSpec.nc\"\n",
    "file = r\"D:\\Study\\20220208_g2\\GK2_GOCI2_L1B_20220108_021530_LA_S007.nc\"\n",
    "print(file)"
   ]
  },
  {
   "cell_type": "code",
   "execution_count": 3,
   "metadata": {},
   "outputs": [
    {
     "name": "stdout",
     "output_type": "stream",
     "text": [
      "<class 'netCDF4._netCDF4.Dataset'>\n",
      "root group (NETCDF4 data model, file format HDF5):\n",
      "    title: GK2B GOCI-II Level-1B Radiances\n",
      "    summary: GK2B GOCI-II Level-1B Radiances\n",
      "    id: 1.2.7_20210721/GK2_GOCI2_L1B_20220108_021530_LA_S007.nc\n",
      "    naming_authority: kr.ac.kiost.kosc\n",
      "    product_name: GK2_GOCI2_L1B_20220108_021530_LA_S007.nc\n",
      "    product_version: 1.0.0_20191030\n",
      "    history: BAND_CNT = 12\n",
      "BAND1_THRESHOLD = 100.546\n",
      "BAND2_THRESHOLD = 146.1\n",
      "BAND3_THRESHOLD = 134.852\n",
      "BAND4_THRESHOLD = 127.781\n",
      "BAND5_THRESHOLD = 118.605\n",
      "BAND6_THRESHOLD = 109.935\n",
      "BAND7_THRESHOLD = 92.956\n",
      "BAND8_THRESHOLD = 84.836\n",
      "BAND9_THRESHOLD = 81.822\n",
      "BAND10_THRESHOLD = 77.244\n",
      "BAND11_THRESHOLD = 65.778\n",
      "BAND12_THRESHOLD = 42.903\n",
      "HG = /input/GK2_GOCI2_L1B_20220108_021500_RLA_S0007_HG.nc\n",
      "LG = /input/GK2_GOCI2_L1B_20220108_021500_RLA_S0007_LG.nc\n",
      "STATIC = /main_storage_temp/G2GS/STATIC\n",
      "OUTPUT = /output/GK2_GOCI2_L1B_20220108_021530_LA_S007.nc\n",
      "\n",
      "    creator_name: KIOST/KOSC\n",
      "    creator_email: kosc@kiost.ac.kr\n",
      "    creator_url: http://kosc.kiost.ac.kr\n",
      "    publisher_name: KIOST/KOSC\n",
      "    publisher_email: kosc@kiost.ac.kr\n",
      "    publisher_url: http://kosc.kiost.ac.kr\n",
      "    reference: GK2B GOCI-II L1B File Format Document\n",
      "    keywords: Earth Science > Oceans > Ocean Optics > Ocean Color\n",
      "    keywords_vocabulary: NASA Global Change Master Directory (GCMD) Science Keywords\n",
      "    standard_name_vocabulary: CF Standard Name Table v72\n",
      "    comment: \n",
      "    acknowledgement: \n",
      "    license: \n",
      "    platform: GK-2B\n",
      "    instrument: GOCI-II\n",
      "    institution: KIOST, Korea Ocean Satellite Center\n",
      "    Conventions: CF-1.6 ACDD-1.3\n",
      "    processing_level: L1B\n",
      "    geospatial_lat_units: degree_north\n",
      "    geospatial_lon_units: degree_east\n",
      "    geospatial_lat_resolution: 250 meters\n",
      "    geospatial_lon_resolution: 250 meters\n",
      "    geospatial_lat_min: 30.665466\n",
      "    geospatial_lat_max: 39.28563\n",
      "    geospatial_lon_min: 121.99647\n",
      "    geospatial_lon_max: 130.40538\n",
      "    slot_acquisition_time: 20220108_022730\n",
      "    number_of_total_slots: 1\n",
      "    number_of_total_bands: 12\n",
      "    number_of_columns: 2780\n",
      "    number_of_lines: 2780\n",
      "    observation_mode: RLA\n",
      "    observation_start_time: 20220108_022730\n",
      "    observation_end_time: 20220108_022836\n",
      "    time_synchro_obt: 694880850.997826\n",
      "    time_synchro_utc: 20220108_022731\n",
      "    projection_type: GEOS\n",
      "    sub_longitude: 128.2\n",
      "    nominal_satellite_height: 42164000.0\n",
      "    earth_radius: 6378137.0\n",
      "    geographic_crs_name: WGS 84\n",
      "    horizontal_datum_name: WGS 1984\n",
      "    reference_ellipsoid_name: WGS 84\n",
      "    grid_mapping_name: geostationary\n",
      "    latitude_of_projection_origin: 0.0\n",
      "    longitude_of_projection_origin: 128.2\n",
      "    perspective_point_height: 35786000.0\n",
      "    false_easting: 0.0\n",
      "    false_northing: 0.0\n",
      "    prime_meridian_name: Greenwich\n",
      "    semi_major_axis: 6378137.0\n",
      "    semi_minor_axis: 6356752.3\n",
      "    earth_ellipsoid_center: [0. 0. 0.]\n",
      "    image_upperleft_latitude: 39.28563\n",
      "    image_upperleft_longitude: 121.99646\n",
      "    image_lowerright_latitude: 30.66906\n",
      "    image_lowerright_longitude: 130.15741\n",
      "    image_center_latitude: 34.785534\n",
      "    image_center_longitude: 126.338715\n",
      "    dimensions(sizes): number_of_columns(2780), number_of_lines(2780)\n",
      "    variables(dimensions): \n",
      "    groups: geophysical_data, navigation_data\n"
     ]
    }
   ],
   "source": [
    "f = Dataset(file)\n",
    "print(f)"
   ]
  },
  {
   "attachments": {},
   "cell_type": "markdown",
   "metadata": {},
   "source": [
    "# Access a netCDF group/variable\n",
    "* **variable** objects stored by name in variables dict.\n",
    "* print the variable yields summary info (including all the attributes).\n",
    "* no actual data read yet (just have a reference to the variable object with metadata)."
   ]
  },
  {
   "cell_type": "code",
   "execution_count": 4,
   "metadata": {},
   "outputs": [
    {
     "name": "stdout",
     "output_type": "stream",
     "text": [
      "dict_keys([])\n"
     ]
    }
   ],
   "source": [
    "print(f.variables.keys()) # get all variable names\n",
    "# temp = f.variables['temperature']  # temperature variable\n",
    "# print(temp) \n"
   ]
  },
  {
   "cell_type": "code",
   "execution_count": 6,
   "metadata": {},
   "outputs": [
    {
     "name": "stdout",
     "output_type": "stream",
     "text": [
      "dict_keys(['geophysical_data', 'navigation_data'])\n",
      "<class 'netCDF4._netCDF4.Group'>\n",
      "group /geophysical_data:\n",
      "    dimensions(sizes): \n",
      "    variables(dimensions): uint32 L_TOA_380(number_of_columns, number_of_lines), uint32 L_TOA_412(number_of_columns, number_of_lines), uint32 L_TOA_443(number_of_columns, number_of_lines), uint32 L_TOA_490(number_of_columns, number_of_lines), uint32 L_TOA_510(number_of_columns, number_of_lines), uint32 L_TOA_555(number_of_columns, number_of_lines), uint32 L_TOA_620(number_of_columns, number_of_lines), uint32 L_TOA_660(number_of_columns, number_of_lines), uint32 L_TOA_680(number_of_columns, number_of_lines), uint32 L_TOA_709(number_of_columns, number_of_lines), uint32 L_TOA_745(number_of_columns, number_of_lines), uint32 L_TOA_865(number_of_columns, number_of_lines)\n",
      "    groups: \n",
      "dict_keys(['L_TOA_380', 'L_TOA_412', 'L_TOA_443', 'L_TOA_490', 'L_TOA_510', 'L_TOA_555', 'L_TOA_620', 'L_TOA_660', 'L_TOA_680', 'L_TOA_709', 'L_TOA_745', 'L_TOA_865'])\n",
      "<class 'netCDF4._netCDF4.Variable'>\n",
      "uint32 L_TOA_745(number_of_columns, number_of_lines)\n",
      "    _FillValue: 4294967295\n",
      "    name: L_TOA_745\n",
      "    standard_name: toa_outgoing_radiance_per_unit_wavelength\n",
      "    long_name: TOA radiance at 745 nm\n",
      "    units: W m-2 um-1 sr-1\n",
      "    valid_min: 0\n",
      "    valid_max: 1000000000\n",
      "    references: \n",
      "    scale_factor: 1e-06\n",
      "    add_offset: 0.0\n",
      "    relative_time: 59\n",
      "path = /geophysical_data\n",
      "unlimited dimensions: \n",
      "current shape = (2780, 2780)\n",
      "filling on\n"
     ]
    }
   ],
   "source": [
    "print(f.groups.keys())\n",
    "geo = f.groups['geophysical_data']\n",
    "print(geo)\n",
    "print(geo.variables.keys())\n",
    "# data = geo.variables['data'] #data variable\n",
    "data = geo.variables['L_TOA_745']\n",
    "print(data)"
   ]
  },
  {
   "attachments": {},
   "cell_type": "markdown",
   "metadata": {},
   "source": [
    "List the Dimensions\n",
    "-------------------\n",
    "\n",
    "* All variables in a netCDF file have an associated shape, specified by a list of dimensions.\n",
    "* Let's list all the dimensions in this netCDF file.\n",
    "* ~~Note that the MT dimension is special (unlimited), which means it can be appended to.~~"
   ]
  },
  {
   "attachments": {},
   "cell_type": "markdown",
   "metadata": {},
   "source": [
    "Each variable has a dimensions and a shape attribute."
   ]
  },
  {
   "cell_type": "code",
   "execution_count": 7,
   "metadata": {},
   "outputs": [
    {
     "name": "stdout",
     "output_type": "stream",
     "text": [
      "('number_of_columns', <class 'netCDF4._netCDF4.Dimension'>: name = 'number_of_columns', size = 2780)\n",
      "('number_of_lines', <class 'netCDF4._netCDF4.Dimension'>: name = 'number_of_lines', size = 2780)\n",
      "number_of_columns\n",
      "number_of_lines\n"
     ]
    }
   ],
   "source": [
    "for d in f.dimensions.items():\n",
    "    print(d)\n",
    "\n",
    "for d in data.dimensions :\n",
    "    print(d)"
   ]
  },
  {
   "cell_type": "code",
   "execution_count": 8,
   "metadata": {},
   "outputs": [
    {
     "data": {
      "text/plain": [
       "(2780, 2780)"
      ]
     },
     "execution_count": 8,
     "metadata": {},
     "output_type": "execute_result"
    }
   ],
   "source": [
    "data.shape"
   ]
  },
  {
   "attachments": {},
   "cell_type": "markdown",
   "metadata": {},
   "source": [
    "Get value from NetCDF Variable"
   ]
  },
  {
   "cell_type": "code",
   "execution_count": 9,
   "metadata": {},
   "outputs": [
    {
     "name": "stdout",
     "output_type": "stream",
     "text": [
      "shape of banddata: (2780, 2780)\n",
      "[[0. 0. 0. ... 0. 0. 0.]\n",
      " [0. 0. 0. ... 0. 0. 0.]\n",
      " [0. 0. 0. ... 0. 0. 0.]\n",
      " ...\n",
      " [0. 0. 0. ... 0. 0. 0.]\n",
      " [0. 0. 0. ... 0. 0. 0.]\n",
      " [0. 0. 0. ... 0. 0. 0.]]\n"
     ]
    }
   ],
   "source": [
    "banddata = data[:]\n",
    "print('shape of banddata: %s' % repr(banddata.shape))\n",
    "print(banddata)"
   ]
  },
  {
   "attachments": {},
   "cell_type": "markdown",
   "metadata": {},
   "source": [
    "Calc lat/lon from attribute\n",
    "===========================\n",
    "\n",
    "* get attribute from nc file\n"
   ]
  },
  {
   "cell_type": "code",
   "execution_count": 11,
   "metadata": {},
   "outputs": [
    {
     "name": "stdout",
     "output_type": "stream",
     "text": [
      "128.2 7345.318758724311 7345.318758724311\n",
      "35786000.0 35786000.0\n"
     ]
    }
   ],
   "source": [
    "from pyproj import Proj\n",
    "import math\n",
    "\n",
    "sl = f.sub_longitude\n",
    "sl2 = sl* 180 / math.pi\n",
    "sl3 =str(sl2).strip()\n",
    "print(sl, sl2, sl3)\n",
    "\n",
    "nsh = f.nominal_satellite_height\n",
    "er = f.earth_radius\n",
    "# h1 = nsh - er\n",
    "h1 = f.perspective_point_height\n",
    "h2 = str(h1).strip()\n",
    "print(h1, h2)\n",
    "p = Proj(proj='geos', h=h2, lon_0 = sl3, sweep='x')\n",
    "\n"
   ]
  }
 ],
 "metadata": {
  "kernelspec": {
   "display_name": "base",
   "language": "python",
   "name": "python3"
  },
  "language_info": {
   "codemirror_mode": {
    "name": "ipython",
    "version": 3
   },
   "file_extension": ".py",
   "mimetype": "text/x-python",
   "name": "python",
   "nbconvert_exporter": "python",
   "pygments_lexer": "ipython3",
   "version": "3.8.5"
  },
  "orig_nbformat": 4
 },
 "nbformat": 4,
 "nbformat_minor": 2
}
