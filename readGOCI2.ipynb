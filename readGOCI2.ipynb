{
 "cells": [
  {
   "cell_type": "code",
   "execution_count": 1,
   "metadata": {},
   "outputs": [],
   "source": [
    "import sys\n",
    "import glob\n",
    "from netCDF4 import Dataset\n",
    "import pandas as pd\n",
    "import numpy as np"
   ]
  },
  {
   "attachments": {},
   "cell_type": "markdown",
   "metadata": {},
   "source": [
    "# netcdf file read\n"
   ]
  },
  {
   "attachments": {},
   "cell_type": "markdown",
   "metadata": {},
   "source": [
    "Create a netCDF4.Dataset object\n",
    "--------------------------------\n",
    "* <span style=\"color:#2D3748; background-color:#fff5b1;\">f</span> is a Dataset object, representing an open netCDF file.\n",
    "* printing the object gives you summary information, similar to ncdump -h."
   ]
  },
  {
   "cell_type": "code",
   "execution_count": 2,
   "metadata": {},
   "outputs": [
    {
     "name": "stdout",
     "output_type": "stream",
     "text": [
      "D:\\Study\\20220317_python\\20211002_03\\GK2_GOCI2_L1B_20211002_031500_RLA_S0009_HG_rhowSpec.nc\n"
     ]
    }
   ],
   "source": [
    "file = r\"D:\\Study\\20220317_python\\20211002_03\\GK2_GOCI2_L1B_20211002_031500_RLA_S0009_HG_rhowSpec.nc\"\n",
    "print(file)"
   ]
  },
  {
   "cell_type": "code",
   "execution_count": 3,
   "metadata": {},
   "outputs": [
    {
     "name": "stdout",
     "output_type": "stream",
     "text": [
      "<class 'netCDF4._netCDF4.Dataset'>\n",
      "root group (NETCDF4 data model, file format HDF5):\n",
      "    product_name: GK2_GOCI2_L1B_20211002_031500_RLA_S0009_HG_rhowSpec.nc\n",
      "    projection_type: GEOS\n",
      "    sub_longitude: 2.2375121010567303\n",
      "    nominal_satellite_height: 42164000.0\n",
      "    earth_radius: 6378137.0\n",
      "    earth_equatorial_radius: 6378137.0\n",
      "    perspective_point_height: 35785863.0\n",
      "    image_upperleft_x: -0.0313145\n",
      "    image_upperleft_y: 0.0897435\n",
      "    image_lowerright_x: -0.011861499999999997\n",
      "    image_lowerright_y: 0.0702905\n",
      "    image_upperleft_latitude: 0.5505231616896651\n",
      "    image_upperleft_longitude: 2.0237435851380536\n",
      "    image_lowerright_latitude: 0.4155291226008265\n",
      "    image_lowerright_longitude: 2.163611005042577\n",
      "    nband: 12\n",
      "    wavelength: [381.  412.5 443.8 490.7 510.5 555.2 620.  660.1 680.1 709.1 745.5 864.1]\n",
      "    wavelength_unit: nm\n",
      "    dimensions(sizes): dim_image_x(2780), dim_image_y(2780), bands(12)\n",
      "    variables(dimensions): \n",
      "    groups: geophysical_data\n"
     ]
    }
   ],
   "source": [
    "f = Dataset(file)\n",
    "print(f)"
   ]
  },
  {
   "attachments": {},
   "cell_type": "markdown",
   "metadata": {},
   "source": [
    "# Access a netCDF group/variable\n",
    "* **variable** objects stored by name in variables dict.\n",
    "* print the variable yields summary info (including all the attributes).\n",
    "* no actual data read yet (just have a reference to the variable object with metadata)."
   ]
  },
  {
   "cell_type": "code",
   "execution_count": 4,
   "metadata": {},
   "outputs": [
    {
     "name": "stdout",
     "output_type": "stream",
     "text": [
      "dict_keys([])\n"
     ]
    }
   ],
   "source": [
    "print(f.variables.keys()) # get all variable names\n",
    "# temp = f.variables['temperature']  # temperature variable\n",
    "# print(temp) \n"
   ]
  },
  {
   "cell_type": "code",
   "execution_count": 5,
   "metadata": {},
   "outputs": [
    {
     "name": "stdout",
     "output_type": "stream",
     "text": [
      "dict_keys(['geophysical_data'])\n",
      "<class 'netCDF4._netCDF4.Group'>\n",
      "group /geophysical_data:\n",
      "    dimensions(sizes): \n",
      "    variables(dimensions): float32 data(bands, dim_image_y, dim_image_x)\n",
      "    groups: \n",
      "dict_keys(['data'])\n",
      "<class 'netCDF4._netCDF4.Variable'>\n",
      "float32 data(bands, dim_image_y, dim_image_x)\n",
      "path = /geophysical_data\n",
      "unlimited dimensions: \n",
      "current shape = (12, 2780, 2780)\n",
      "filling on, default _FillValue of 9.969209968386869e+36 used\n"
     ]
    }
   ],
   "source": [
    "print(f.groups.keys())\n",
    "geo = f.groups['geophysical_data']\n",
    "print(geo)\n",
    "print(geo.variables.keys())\n",
    "data = geo.variables['data'] #data variable\n",
    "print(data)"
   ]
  },
  {
   "attachments": {},
   "cell_type": "markdown",
   "metadata": {},
   "source": [
    "List the Dimensions\n",
    "-------------------\n",
    "\n",
    "* All variables in a netCDF file have an associated shape, specified by a list of dimensions.\n",
    "* Let's list all the dimensions in this netCDF file.\n",
    "* ~~Note that the MT dimension is special (unlimited), which means it can be appended to.~~"
   ]
  },
  {
   "attachments": {},
   "cell_type": "markdown",
   "metadata": {},
   "source": [
    "Each variable has a dimensions and a shape attribute."
   ]
  },
  {
   "cell_type": "code",
   "execution_count": 10,
   "metadata": {},
   "outputs": [
    {
     "name": "stdout",
     "output_type": "stream",
     "text": [
      "('dim_image_x', <class 'netCDF4._netCDF4.Dimension'>: name = 'dim_image_x', size = 2780)\n",
      "('dim_image_y', <class 'netCDF4._netCDF4.Dimension'>: name = 'dim_image_y', size = 2780)\n",
      "('bands', <class 'netCDF4._netCDF4.Dimension'>: name = 'bands', size = 12)\n",
      "bands\n",
      "dim_image_y\n",
      "dim_image_x\n"
     ]
    }
   ],
   "source": [
    "for d in f.dimensions.items():\n",
    "    print(d)\n",
    "\n",
    "for d in data.dimensions :\n",
    "    print(d)"
   ]
  },
  {
   "cell_type": "code",
   "execution_count": 11,
   "metadata": {},
   "outputs": [
    {
     "data": {
      "text/plain": [
       "(12, 2780, 2780)"
      ]
     },
     "execution_count": 11,
     "metadata": {},
     "output_type": "execute_result"
    }
   ],
   "source": [
    "data.shape"
   ]
  },
  {
   "attachments": {},
   "cell_type": "markdown",
   "metadata": {},
   "source": [
    "Get value from NetCDF Variable"
   ]
  },
  {
   "cell_type": "code",
   "execution_count": 20,
   "metadata": {},
   "outputs": [
    {
     "name": "stdout",
     "output_type": "stream",
     "text": [
      "shape of banddata: (12, 2780, 2780)\n",
      "[[[0. 0. 0. ... 0. 0. 0.]\n",
      "  [0. 0. 0. ... 0. 0. 0.]\n",
      "  [0. 0. 0. ... 0. 0. 0.]\n",
      "  ...\n",
      "  [0. 0. 0. ... 0. 0. 0.]\n",
      "  [0. 0. 0. ... 0. 0. 0.]\n",
      "  [0. 0. 0. ... 0. 0. 0.]]\n",
      "\n",
      " [[0. 0. 0. ... 0. 0. 0.]\n",
      "  [0. 0. 0. ... 0. 0. 0.]\n",
      "  [0. 0. 0. ... 0. 0. 0.]\n",
      "  ...\n",
      "  [0. 0. 0. ... 0. 0. 0.]\n",
      "  [0. 0. 0. ... 0. 0. 0.]\n",
      "  [0. 0. 0. ... 0. 0. 0.]]\n",
      "\n",
      " [[0. 0. 0. ... 0. 0. 0.]\n",
      "  [0. 0. 0. ... 0. 0. 0.]\n",
      "  [0. 0. 0. ... 0. 0. 0.]\n",
      "  ...\n",
      "  [0. 0. 0. ... 0. 0. 0.]\n",
      "  [0. 0. 0. ... 0. 0. 0.]\n",
      "  [0. 0. 0. ... 0. 0. 0.]]\n",
      "\n",
      " ...\n",
      "\n",
      " [[0. 0. 0. ... 0. 0. 0.]\n",
      "  [0. 0. 0. ... 0. 0. 0.]\n",
      "  [0. 0. 0. ... 0. 0. 0.]\n",
      "  ...\n",
      "  [0. 0. 0. ... 0. 0. 0.]\n",
      "  [0. 0. 0. ... 0. 0. 0.]\n",
      "  [0. 0. 0. ... 0. 0. 0.]]\n",
      "\n",
      " [[0. 0. 0. ... 0. 0. 0.]\n",
      "  [0. 0. 0. ... 0. 0. 0.]\n",
      "  [0. 0. 0. ... 0. 0. 0.]\n",
      "  ...\n",
      "  [0. 0. 0. ... 0. 0. 0.]\n",
      "  [0. 0. 0. ... 0. 0. 0.]\n",
      "  [0. 0. 0. ... 0. 0. 0.]]\n",
      "\n",
      " [[0. 0. 0. ... 0. 0. 0.]\n",
      "  [0. 0. 0. ... 0. 0. 0.]\n",
      "  [0. 0. 0. ... 0. 0. 0.]\n",
      "  ...\n",
      "  [0. 0. 0. ... 0. 0. 0.]\n",
      "  [0. 0. 0. ... 0. 0. 0.]\n",
      "  [0. 0. 0. ... 0. 0. 0.]]]\n"
     ]
    }
   ],
   "source": [
    "banddata = data[:]\n",
    "print('shape of banddata: %s' % repr(banddata.shape))\n",
    "print(banddata)"
   ]
  }
 ],
 "metadata": {
  "kernelspec": {
   "display_name": "base",
   "language": "python",
   "name": "python3"
  },
  "language_info": {
   "codemirror_mode": {
    "name": "ipython",
    "version": 3
   },
   "file_extension": ".py",
   "mimetype": "text/x-python",
   "name": "python",
   "nbconvert_exporter": "python",
   "pygments_lexer": "ipython3",
   "version": "3.8.5"
  },
  "orig_nbformat": 4
 },
 "nbformat": 4,
 "nbformat_minor": 2
}
