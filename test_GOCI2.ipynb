{
 "cells": [
  {
   "cell_type": "code",
   "execution_count": 1,
   "metadata": {},
   "outputs": [],
   "source": [
    "import numpy as np\n"
   ]
  },
  {
   "cell_type": "code",
   "execution_count": 1,
   "metadata": {},
   "outputs": [
    {
     "name": "stdout",
     "output_type": "stream",
     "text": [
      "Original point: [1 2 3]\n",
      "Transformed point: [1.29289322 4.12132034 5.        ]\n"
     ]
    }
   ],
   "source": [
    "import numpy as np\n",
    "\n",
    "# Define the 3D point coordinates\n",
    "point = np.array([1, 2, 3])\n",
    "\n",
    "# Define the rotation angle in radians and translation vector\n",
    "angle = np.pi / 4  # 45 degrees\n",
    "translation = np.array([2, 2, 2])\n",
    "\n",
    "# Create the rotation matrix around the z-axis\n",
    "rotation_matrix = np.array([\n",
    "    [np.cos(angle), -np.sin(angle), 0],\n",
    "    [np.sin(angle), np.cos(angle), 0],\n",
    "    [0, 0, 1]\n",
    "])\n",
    "\n",
    "# Create the translation matrix\n",
    "translation_matrix = np.eye(4)  # Identity matrix\n",
    "translation_matrix[:3, 3] = translation\n",
    "\n",
    "# Create the transformation matrix by combining rotation and translation\n",
    "transformation_matrix = np.eye(4)\n",
    "transformation_matrix[:3, :3] = rotation_matrix\n",
    "transformation_matrix[:3, 3] = translation\n",
    "\n",
    "# Perform the transformation\n",
    "homogeneous_point = np.append(point, 1)  # Convert to homogeneous coordinates\n",
    "transformed_point = np.dot(transformation_matrix, homogeneous_point)[:3]\n",
    "\n",
    "print(\"Original point:\", point)\n",
    "print(\"Transformed point:\", transformed_point)\n",
    "\n"
   ]
  },
  {
   "cell_type": "code",
   "execution_count": 17,
   "metadata": {},
   "outputs": [],
   "source": [
    "from GOCI2 import GOCI2_get_lonlat"
   ]
  },
  {
   "cell_type": "code",
   "execution_count": 18,
   "metadata": {},
   "outputs": [
    {
     "ename": "NameError",
     "evalue": "name 'GOCI2' is not defined",
     "output_type": "error",
     "traceback": [
      "\u001b[1;31m---------------------------------------------------------------------------\u001b[0m",
      "\u001b[1;31mNameError\u001b[0m                                 Traceback (most recent call last)",
      "\u001b[1;32mC:\\Users\\Public\\Documents\\ESTsoft\\CreatorTemp\\ipykernel_6544\\2500164430.py\u001b[0m in \u001b[0;36m<cell line: 1>\u001b[1;34m()\u001b[0m\n\u001b[1;32m----> 1\u001b[1;33m \u001b[0mdlons\u001b[0m\u001b[1;33m,\u001b[0m \u001b[0mdlats\u001b[0m \u001b[1;33m=\u001b[0m \u001b[0mGOCI2_get_lonlat\u001b[0m\u001b[1;33m(\u001b[0m\u001b[0mX\u001b[0m\u001b[1;33m,\u001b[0m \u001b[0mY\u001b[0m\u001b[1;33m,\u001b[0m \u001b[0mPlatformID\u001b[0m\u001b[1;33m,\u001b[0m \u001b[0mSatLon\u001b[0m\u001b[1;33m,\u001b[0m \u001b[0mSatHeight\u001b[0m\u001b[1;33m,\u001b[0m \u001b[0mSatSweep\u001b[0m\u001b[1;33m)\u001b[0m\u001b[1;33m\u001b[0m\u001b[1;33m\u001b[0m\u001b[0m\n\u001b[0m",
      "\u001b[1;32md:\\Study\\hanOCCCI\\GOCI2\\GOCI2_get_lonlat.py\u001b[0m in \u001b[0;36mGOCI2_get_lonlat\u001b[1;34m(X, Y, PlatformID, SatLon, SatHeight, SatSweep, fmt)\u001b[0m\n\u001b[0;32m     78\u001b[0m \u001b[1;33m\u001b[0m\u001b[0m\n\u001b[0;32m     79\u001b[0m     dict_Lats = {'long_name':'Latitude of center of pixels', 'standard_name':'pixels center latitude',\n\u001b[1;32m---> 80\u001b[1;33m                  'units':'degrees_north', 'undef':-999.99, 'axis':'YX', 'dimensions':('y','x'), 'data':Lats}\n\u001b[0m\u001b[0;32m     81\u001b[0m \u001b[1;33m\u001b[0m\u001b[0m\n\u001b[0;32m     82\u001b[0m     \u001b[1;32mreturn\u001b[0m \u001b[0mdict_Lons\u001b[0m\u001b[1;33m,\u001b[0m \u001b[0mdict_Lats\u001b[0m\u001b[1;33m\u001b[0m\u001b[1;33m\u001b[0m\u001b[0m\n",
      "\u001b[1;31mNameError\u001b[0m: name 'GOCI2' is not defined"
     ]
    }
   ],
   "source": [
    "\n",
    "dlons, dlats = GOCI2_get_lonlat(X, Y, PlatformID, SatLon, SatHeight, SatSweep)"
   ]
  }
 ],
 "metadata": {
  "kernelspec": {
   "display_name": "base",
   "language": "python",
   "name": "python3"
  },
  "language_info": {
   "codemirror_mode": {
    "name": "ipython",
    "version": 3
   },
   "file_extension": ".py",
   "mimetype": "text/x-python",
   "name": "python",
   "nbconvert_exporter": "python",
   "pygments_lexer": "ipython3",
   "version": "3.8.5"
  },
  "orig_nbformat": 4
 },
 "nbformat": 4,
 "nbformat_minor": 2
}
