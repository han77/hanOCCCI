{
 "cells": [
  {
   "cell_type": "code",
   "execution_count": 1,
   "metadata": {},
   "outputs": [],
   "source": [
    "import numpy as np\n"
   ]
  },
  {
   "cell_type": "code",
   "execution_count": 5,
   "metadata": {},
   "outputs": [
    {
     "ename": "SyntaxError",
     "evalue": "invalid syntax (3745287299.py, line 8)",
     "output_type": "error",
     "traceback": [
      "\u001b[1;36m  File \u001b[1;32m\"C:\\Users\\Public\\Documents\\ESTsoft\\CreatorTemp\\ipykernel_6544\\3745287299.py\"\u001b[1;36m, line \u001b[1;32m8\u001b[0m\n\u001b[1;33m    dlons, dlats = .GOCI2.GOCI2_get_lonlat(X, Y, PlatformID, SatLon, SatHeight, SatSweep)\u001b[0m\n\u001b[1;37m                   ^\u001b[0m\n\u001b[1;31mSyntaxError\u001b[0m\u001b[1;31m:\u001b[0m invalid syntax\n"
     ]
    }
   ],
   "source": [
    "X = np.arange(2780)\n",
    "Y = np.arange(2780)\n",
    "PlatformID = 'GOCI2'\n",
    "SatLon = 128.2\n",
    "SatHeight = 35786000.0\n",
    "SatSweep = 'x'\n",
    "\n",
    "\n"
   ]
  },
  {
   "cell_type": "code",
   "execution_count": 9,
   "metadata": {},
   "outputs": [],
   "source": [
    "from GOCI2 import GOCI2_get_lonlat"
   ]
  },
  {
   "cell_type": "code",
   "execution_count": 13,
   "metadata": {},
   "outputs": [
    {
     "ename": "NameError",
     "evalue": "name 'GOCI2' is not defined",
     "output_type": "error",
     "traceback": [
      "\u001b[1;31m---------------------------------------------------------------------------\u001b[0m",
      "\u001b[1;31mNameError\u001b[0m                                 Traceback (most recent call last)",
      "\u001b[1;32mC:\\Users\\Public\\Documents\\ESTsoft\\CreatorTemp\\ipykernel_6544\\2500164430.py\u001b[0m in \u001b[0;36m<cell line: 1>\u001b[1;34m()\u001b[0m\n\u001b[1;32m----> 1\u001b[1;33m \u001b[0mdlons\u001b[0m\u001b[1;33m,\u001b[0m \u001b[0mdlats\u001b[0m \u001b[1;33m=\u001b[0m \u001b[0mGOCI2_get_lonlat\u001b[0m\u001b[1;33m(\u001b[0m\u001b[0mX\u001b[0m\u001b[1;33m,\u001b[0m \u001b[0mY\u001b[0m\u001b[1;33m,\u001b[0m \u001b[0mPlatformID\u001b[0m\u001b[1;33m,\u001b[0m \u001b[0mSatLon\u001b[0m\u001b[1;33m,\u001b[0m \u001b[0mSatHeight\u001b[0m\u001b[1;33m,\u001b[0m \u001b[0mSatSweep\u001b[0m\u001b[1;33m)\u001b[0m\u001b[1;33m\u001b[0m\u001b[1;33m\u001b[0m\u001b[0m\n\u001b[0m",
      "\u001b[1;32md:\\Study\\hanOCCCI\\GOCI2\\GOCI2_get_lonlat.py\u001b[0m in \u001b[0;36mGOCI2_get_lonlat\u001b[1;34m(X, Y, PlatformID, SatLon, SatHeight, SatSweep, fmt)\u001b[0m\n\u001b[0;32m     78\u001b[0m                  'units':'degrees_north', 'undef':-999.99, 'axis':'YX', 'dimensions':('y','x'), 'data':Lats}\n\u001b[0;32m     79\u001b[0m \u001b[1;33m\u001b[0m\u001b[0m\n\u001b[1;32m---> 80\u001b[1;33m     \u001b[1;32mreturn\u001b[0m \u001b[0mGOCI2\u001b[0m\u001b[1;33m(\u001b[0m\u001b[0mdict_Lons\u001b[0m\u001b[1;33m)\u001b[0m\u001b[1;33m,\u001b[0m \u001b[0mGOCI2\u001b[0m\u001b[1;33m(\u001b[0m\u001b[0mdict_Lats\u001b[0m\u001b[1;33m)\u001b[0m\u001b[1;33m;\u001b[0m\u001b[1;33m\u001b[0m\u001b[1;33m\u001b[0m\u001b[0m\n\u001b[0m\u001b[0;32m     81\u001b[0m \u001b[1;33m\u001b[0m\u001b[0m\n\u001b[0;32m     82\u001b[0m \u001b[1;33m\u001b[0m\u001b[0m\n",
      "\u001b[1;31mNameError\u001b[0m: name 'GOCI2' is not defined"
     ]
    }
   ],
   "source": [
    "\n",
    "dlons, dlats = GOCI2_get_lonlat(X, Y, PlatformID, SatLon, SatHeight, SatSweep)"
   ]
  }
 ],
 "metadata": {
  "kernelspec": {
   "display_name": "base",
   "language": "python",
   "name": "python3"
  },
  "language_info": {
   "codemirror_mode": {
    "name": "ipython",
    "version": 3
   },
   "file_extension": ".py",
   "mimetype": "text/x-python",
   "name": "python",
   "nbconvert_exporter": "python",
   "pygments_lexer": "ipython3",
   "version": "3.8.5"
  },
  "orig_nbformat": 4
 },
 "nbformat": 4,
 "nbformat_minor": 2
}
